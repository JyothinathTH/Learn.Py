{
  "nbformat": 4,
  "nbformat_minor": 0,
  "metadata": {
    "colab": {
      "name": "TASK 10.ipynb",
      "provenance": [],
      "include_colab_link": true
    },
    "kernelspec": {
      "name": "python3",
      "display_name": "Python 3"
    },
    "language_info": {
      "name": "python"
    }
  },
  "cells": [
    {
      "cell_type": "markdown",
      "metadata": {
        "id": "view-in-github",
        "colab_type": "text"
      },
      "source": [
        "<a href=\"https://colab.research.google.com/github/wed0rex/Learn.Py/blob/main/TASK_10.ipynb\" target=\"_parent\"><img src=\"https://colab.research.google.com/assets/colab-badge.svg\" alt=\"Open In Colab\"/></a>"
      ]
    },
    {
      "cell_type": "markdown",
      "metadata": {
        "id": "VHKxwUewxOi2"
      },
      "source": [
        "1. Generate two  3 x 3 matrix and find it's dot product and take the transpose of the answer."
      ]
    },
    {
      "cell_type": "code",
      "metadata": {
        "id": "RdyKd1CAxZtR",
        "outputId": "72787a9e-3dfe-4c31-ab1e-e24f73c602b3",
        "colab": {
          "base_uri": "https://localhost:8080/"
        }
      },
      "source": [
        "#please provide your answer below this line.\n",
        "import numpy as np\n",
        "a = np.random.rand(3,3)\n",
        "b = np.random.rand(3,3)\n",
        "\n",
        "print(a)\n",
        "print(b)\n",
        "\n",
        "x=np.dot(a,b)\n",
        "print(x)\n",
        "x.transpose()"
      ],
      "execution_count": 1,
      "outputs": [
        {
          "output_type": "stream",
          "text": [
            "[[0.37427998 0.81701693 0.28525526]\n",
            " [0.00139645 0.99731314 0.91848349]\n",
            " [0.4622642  0.90927777 0.94915982]]\n",
            "[[0.08460547 0.06964299 0.42358541]\n",
            " [0.2762627  0.06056775 0.53139867]\n",
            " [0.13197668 0.40258503 0.41291762]]\n",
            "[[0.29502448 0.19039035 0.71048817]\n",
            " [0.39685697 0.43026996 0.90982041]\n",
            " [0.41557657 0.4693839  1.07092218]]\n"
          ],
          "name": "stdout"
        },
        {
          "output_type": "execute_result",
          "data": {
            "text/plain": [
              "array([[0.29502448, 0.39685697, 0.41557657],\n",
              "       [0.19039035, 0.43026996, 0.4693839 ],\n",
              "       [0.71048817, 0.90982041, 1.07092218]])"
            ]
          },
          "metadata": {
            "tags": []
          },
          "execution_count": 1
        }
      ]
    },
    {
      "cell_type": "markdown",
      "metadata": {
        "id": "9c9ZwiBxxf4t"
      },
      "source": [
        "2. Create a 3x3 matrix with elements [55,25,15], [30,44,2], [11,45,77] . Now find the determinant of the given matrix."
      ]
    },
    {
      "cell_type": "code",
      "metadata": {
        "id": "Anmr3C9KyNyy",
        "outputId": "de424f19-6d36-4bad-aa0b-773093a740de",
        "colab": {
          "base_uri": "https://localhost:8080/"
        }
      },
      "source": [
        "#please provide your answer below this line.\n",
        "import numpy as np\n",
        "a=[[55,25,15], [30,44,2], [11,45,77]]\n",
        "b=np.array(a)\n",
        "print(b)\n",
        "np.linalg.det(b)"
      ],
      "execution_count": 2,
      "outputs": [
        {
          "output_type": "stream",
          "text": [
            "[[55 25 15]\n",
            " [30 44  2]\n",
            " [11 45 77]]\n"
          ],
          "name": "stdout"
        },
        {
          "output_type": "execute_result",
          "data": {
            "text/plain": [
              "137180.0000000001"
            ]
          },
          "metadata": {
            "tags": []
          },
          "execution_count": 2
        }
      ]
    }
  ]
}