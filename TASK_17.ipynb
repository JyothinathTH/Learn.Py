{
  "nbformat": 4,
  "nbformat_minor": 0,
  "metadata": {
    "colab": {
      "name": "TASK 17.ipynb",
      "provenance": [],
      "include_colab_link": true
    },
    "kernelspec": {
      "name": "python3",
      "display_name": "Python 3"
    },
    "language_info": {
      "name": "python"
    }
  },
  "cells": [
    {
      "cell_type": "markdown",
      "metadata": {
        "id": "view-in-github",
        "colab_type": "text"
      },
      "source": [
        "<a href=\"https://colab.research.google.com/github/wed0rex/Learn.Py/blob/main/TASK_17.ipynb\" target=\"_parent\"><img src=\"https://colab.research.google.com/assets/colab-badge.svg\" alt=\"Open In Colab\"/></a>"
      ]
    },
    {
      "cell_type": "markdown",
      "metadata": {
        "id": "0SLapvpoaeYY"
      },
      "source": [
        "1. Create a DataFrame by passing a random numpy array,with a datetie index and labelled columns.and display its,\n",
        "     - Head\n",
        "     - Tail\n",
        "     - Index \n",
        "     - Columns\n",
        "     - Values\n",
        "     - statistics\n"
      ]
    },
    {
      "cell_type": "code",
      "metadata": {
        "id": "zJDkjyVxa5yU",
        "outputId": "930d49c0-5af5-4206-a213-e363edd086a8",
        "colab": {
          "base_uri": "https://localhost:8080/"
        }
      },
      "source": [
        "#please type your answer below this line.\n",
        "import numpy as np\n",
        "import pandas as pd\n",
        "datetie = pd.date_range('2021-09-30',periods=4)\n",
        "ok = pd.DataFrame(np.random.randn(4,4), index=datetie, columns=list('ABCD'))\n",
        "print(\"Head:\\n\", ok.head())\n",
        "print(\"\\nTail:\\n\", ok.tail())\n",
        "print(\"\\nIndex:\\n\", ok.index)\n",
        "print(\"\\nColumns:\\n\", ok.columns)\n",
        "print(\"\\nValues:\\n\", ok.values)\n",
        "print(\"\\nStatistics:\\n\", ok.describe(include='all'))"
      ],
      "execution_count": 11,
      "outputs": [
        {
          "output_type": "stream",
          "name": "stdout",
          "text": [
            "Head:\n",
            "                    A         B         C         D\n",
            "2021-09-30 -0.829074  0.579963 -0.716656 -0.750506\n",
            "2021-10-01 -0.346707  1.736948  0.707213 -1.612710\n",
            "2021-10-02  0.200152  0.138903 -0.914101 -0.115653\n",
            "2021-10-03 -0.364089 -0.570891  0.405609 -0.615999\n",
            "\n",
            "Tail:\n",
            "                    A         B         C         D\n",
            "2021-09-30 -0.829074  0.579963 -0.716656 -0.750506\n",
            "2021-10-01 -0.346707  1.736948  0.707213 -1.612710\n",
            "2021-10-02  0.200152  0.138903 -0.914101 -0.115653\n",
            "2021-10-03 -0.364089 -0.570891  0.405609 -0.615999\n",
            "\n",
            "Index:\n",
            " DatetimeIndex(['2021-09-30', '2021-10-01', '2021-10-02', '2021-10-03'], dtype='datetime64[ns]', freq='D')\n",
            "\n",
            "Columns:\n",
            " Index(['A', 'B', 'C', 'D'], dtype='object')\n",
            "\n",
            "Values:\n",
            " [[-0.82907356  0.57996261 -0.71665592 -0.75050627]\n",
            " [-0.34670725  1.73694796  0.70721263 -1.61270972]\n",
            " [ 0.20015227  0.13890252 -0.91410122 -0.11565311]\n",
            " [-0.36408864 -0.57089148  0.40560945 -0.6159988 ]]\n",
            "\n",
            "Statistics:\n",
            "               A         B         C         D\n",
            "count  4.000000  4.000000  4.000000  4.000000\n",
            "mean  -0.334929  0.471230 -0.129484 -0.773717\n",
            "std    0.420904  0.967871  0.805560  0.622460\n",
            "min   -0.829074 -0.570891 -0.914101 -1.612710\n",
            "25%   -0.480335 -0.038546 -0.766017 -0.966057\n",
            "50%   -0.355398  0.359433 -0.155523 -0.683253\n",
            "75%   -0.209992  0.869209  0.481010 -0.490912\n",
            "max    0.200152  1.736948  0.707213 -0.115653\n"
          ]
        }
      ]
    },
    {
      "cell_type": "markdown",
      "metadata": {
        "id": "xnkA2mKDdyoO"
      },
      "source": [
        "2. Use the above table and,\n",
        "      - find transpose of your data.\n",
        "      - sort the index in the descending order of the date."
      ]
    },
    {
      "cell_type": "code",
      "metadata": {
        "id": "uqcQSEOufJ5P",
        "outputId": "dde08014-00ed-4607-f60f-aa771b200f42",
        "colab": {
          "base_uri": "https://localhost:8080/"
        }
      },
      "source": [
        "#please provide your answer below this line.\n",
        "import numpy as np\n",
        "import pandas as pd\n",
        "datetie = pd.date_range('2021-09-30',periods=4)\n",
        "ok = pd.DataFrame(np.random.randn(4,4), index=datetie, columns=list('ABCD'))\n",
        "print(\"\\nTranspose\\n\", ok.transpose())\n",
        "print(\"\\nDescending Order\\n\", ok.sort_index(ascending=False))\n"
      ],
      "execution_count": 15,
      "outputs": [
        {
          "output_type": "stream",
          "name": "stdout",
          "text": [
            "\n",
            "Transpose\n",
            "    2021-09-30  2021-10-01  2021-10-02  2021-10-03\n",
            "A    0.475457   -0.843568    0.590779   -1.577487\n",
            "B   -0.764720    1.066531   -1.626237    1.532715\n",
            "C   -1.408058    0.473068    1.106828    1.687785\n",
            "D   -0.630954    0.849001   -0.261398    0.286426\n",
            "\n",
            "Descending Order\n",
            "                    A         B         C         D\n",
            "2021-10-03 -1.577487  1.532715  1.687785  0.286426\n",
            "2021-10-02  0.590779 -1.626237  1.106828 -0.261398\n",
            "2021-10-01 -0.843568  1.066531  0.473068  0.849001\n",
            "2021-09-30  0.475457 -0.764720 -1.408058 -0.630954\n"
          ]
        }
      ]
    },
    {
      "cell_type": "markdown",
      "metadata": {
        "id": "ss7s_8iDbAcL"
      },
      "source": [
        ""
      ]
    }
  ]
}