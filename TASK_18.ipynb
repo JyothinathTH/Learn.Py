{
  "nbformat": 4,
  "nbformat_minor": 0,
  "metadata": {
    "colab": {
      "name": "TASK 18.ipynb",
      "provenance": [],
      "include_colab_link": true
    },
    "kernelspec": {
      "name": "python3",
      "display_name": "Python 3"
    },
    "language_info": {
      "name": "python"
    }
  },
  "cells": [
    {
      "cell_type": "markdown",
      "metadata": {
        "id": "view-in-github",
        "colab_type": "text"
      },
      "source": [
        "<a href=\"https://colab.research.google.com/github/wed0rex/Learn.Py/blob/main/TASK_18.ipynb\" target=\"_parent\"><img src=\"https://colab.research.google.com/assets/colab-badge.svg\" alt=\"Open In Colab\"/></a>"
      ]
    },
    {
      "cell_type": "markdown",
      "metadata": {
        "id": "_JgXT8pEAjU4"
      },
      "source": [
        "1. \n",
        "Create a DataFrame by passing a random numpy array,with a datetie index and labelled columns.and,\n",
        "    - slice its first three rows and display.\n",
        "    - slice its odd indexed rows.\n",
        "    - display the dates from 1st postion to 4 th position."
      ]
    },
    {
      "cell_type": "code",
      "metadata": {
        "id": "5zFM5VOJBKBV",
        "outputId": "2583772a-4fcb-412f-d8bf-2a21d5d86b54",
        "colab": {
          "base_uri": "https://localhost:8080/"
        }
      },
      "source": [
        "#please provide your answer below this line.\n",
        "import numpy as np\n",
        "import pandas as pd\n",
        "datetie = pd.date_range('2021-09-30',periods=8)\n",
        "ok = pd.DataFrame(np.random.randn(8,6), index=datetie, columns=list('ABCDEF'))\n",
        "print(\"First three rows:\\n\",ok.iloc[0:3])\n",
        "print(\"\\nOdd  rows:\\n\",ok.iloc[1::2])\n",
        "print(\"\\n1st postion to 4 th position:\\n\", ok.iloc[1:5])\n"
      ],
      "execution_count": 12,
      "outputs": [
        {
          "output_type": "stream",
          "name": "stdout",
          "text": [
            "First three rows:\n",
            "                    A         B         C         D         E         F\n",
            "2021-09-30 -1.041337  0.269851  0.348758 -1.180135  0.034118 -1.073528\n",
            "2021-10-01 -0.513496 -1.059395  1.654329  0.032063  0.538781  0.326454\n",
            "2021-10-02  1.689886  0.748834  1.195759  1.449465 -0.519523 -0.279622\n",
            "\n",
            "Odd  rows:\n",
            "                    A         B         C         D         E         F\n",
            "2021-10-01 -0.513496 -1.059395  1.654329  0.032063  0.538781  0.326454\n",
            "2021-10-03  1.623705  0.452068  0.576919 -0.470250  0.735581 -1.873240\n",
            "2021-10-05  1.067532 -0.273681 -0.297034  0.497028 -1.456040 -1.006314\n",
            "2021-10-07  0.174247  0.093472 -0.895449  0.284512  0.806673  0.095433\n",
            "\n",
            "1st postion to 4 th position:\n",
            "                    A         B         C         D         E         F\n",
            "2021-10-01 -0.513496 -1.059395  1.654329  0.032063  0.538781  0.326454\n",
            "2021-10-02  1.689886  0.748834  1.195759  1.449465 -0.519523 -0.279622\n",
            "2021-10-03  1.623705  0.452068  0.576919 -0.470250  0.735581 -1.873240\n",
            "2021-10-04 -0.742687 -0.563350 -0.144737 -0.080587 -0.145161  0.230226\n"
          ]
        }
      ]
    },
    {
      "cell_type": "markdown",
      "metadata": {
        "id": "QuoucvjxBPmX"
      },
      "source": [
        "2. Create a DataFrame by passing a random numpy array,with a datetie index and labelled columns.and\n",
        "  - Dislplay the index from the 1 to 3 date and the columns A and B of respective data.\n",
        "  - Display the datas at the 3rd index.\n",
        "  - Display datas from 2nd to 5th.\n",
        "  - Display the datas from the index 1,2,4 and the column 0 and 2."
      ]
    },
    {
      "cell_type": "code",
      "metadata": {
        "id": "qV_wzsp1DUKI",
        "outputId": "b73d89b6-abd6-4803-88bc-8a29ec5b0450",
        "colab": {
          "base_uri": "https://localhost:8080/"
        }
      },
      "source": [
        "#please provide your answer below thins line.\n",
        "import numpy as np\n",
        "import pandas as pd\n",
        "datetie = pd.date_range('2021-09-30',periods=8)\n",
        "ok = pd.DataFrame(np.random.randn(8,6), index=datetie, columns=list('ABCDEF'))\n",
        "print(\"Index 1 to 3 date and the columns A and B:\\n\",ok.iloc[0:3,0:2])\n",
        "print(\"\\nDatas at the 3rd index:\\n\",ok.iloc[3:4])\n",
        "print(\"\\nDatas from 2nd to 5th:\\n\",ok.iloc[2:6])\n",
        "print(\"\\nDatas from the index 1,2,4 and the column 0 and 2:\\n\",ok.iloc[[1,2,4],[0,2]])\n"
      ],
      "execution_count": 14,
      "outputs": [
        {
          "output_type": "stream",
          "name": "stdout",
          "text": [
            "Index 1 to 3 date and the columns A and B:\n",
            "                    A         B\n",
            "2021-09-30 -1.493353  0.541495\n",
            "2021-10-01  0.619872 -0.765670\n",
            "2021-10-02 -0.026297  1.557597\n",
            "\n",
            "Datas at the 3rd index:\n",
            "                    A         B         C         D        E         F\n",
            "2021-10-03 -0.477488 -0.307369 -0.951325 -1.737562  1.43444 -0.269645\n",
            "\n",
            "Datas from 2nd to 5th:\n",
            "                    A         B         C         D         E         F\n",
            "2021-10-02 -0.026297  1.557597 -2.043405  0.445992  0.918729  1.107808\n",
            "2021-10-03 -0.477488 -0.307369 -0.951325 -1.737562  1.434440 -0.269645\n",
            "2021-10-04  1.134208  0.281967 -1.361631 -1.075876  0.557036 -0.626903\n",
            "2021-10-05 -0.057990  1.446423 -0.982242  1.417925  2.230057 -2.105583\n",
            "\n",
            "Datas from the index 1,2,4 and the column 0 and 2:\n",
            "                    A         C\n",
            "2021-10-01  0.619872  1.042414\n",
            "2021-10-02 -0.026297 -2.043405\n",
            "2021-10-04  1.134208 -1.361631\n"
          ]
        }
      ]
    }
  ]
}