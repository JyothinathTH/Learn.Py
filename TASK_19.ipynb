{
  "nbformat": 4,
  "nbformat_minor": 0,
  "metadata": {
    "colab": {
      "name": "TASK 19.ipynb",
      "provenance": [],
      "include_colab_link": true
    },
    "kernelspec": {
      "name": "python3",
      "display_name": "Python 3"
    },
    "language_info": {
      "name": "python"
    }
  },
  "cells": [
    {
      "cell_type": "markdown",
      "metadata": {
        "id": "view-in-github",
        "colab_type": "text"
      },
      "source": [
        "<a href=\"https://colab.research.google.com/github/wed0rex/Learn.Py/blob/main/TASK_19.ipynb\" target=\"_parent\"><img src=\"https://colab.research.google.com/assets/colab-badge.svg\" alt=\"Open In Colab\"/></a>"
      ]
    },
    {
      "cell_type": "markdown",
      "metadata": {
        "id": "6J-6GvX2JUcC"
      },
      "source": [
        "1. Create a DataFrame by passing a random numpy array,with a dateted index and labelled columns and display,\n",
        "  - where values of the column A is greater than 0.\n",
        "  - where values of the columns A is greater than 0 and B greater than -1.\n",
        "  - where values of the columns A  is greater than 0 or B greater than -1.\n"
      ]
    },
    {
      "cell_type": "code",
      "metadata": {
        "id": "xX-5VikpLcHL",
        "outputId": "e95db728-44a7-49e6-ca83-485b1d13c407",
        "colab": {
          "base_uri": "https://localhost:8080/"
        }
      },
      "source": [
        "#please type your code below this line.\n",
        "import numpy as np\n",
        "import pandas as pd\n",
        "datetie = pd.date_range('2021-09-30',periods=8)\n",
        "ok = pd.DataFrame(np.random.randn(8,6), index=datetie, columns=list('ABCDEF'))\n",
        "print(ok)\n",
        "print(\"\\nValues of the column A is greater than 0:\\n\",ok[ok['A']>0])\n",
        "print(\"\\nValues of the columns A is greater than 0 and B greater than -1:\\n\",ok[(ok['A']>0) & (ok['B']>-1)])\n",
        "print(\"\\nValues of the columns A is greater than 0 or B greater than -1:\\n\",ok[(ok['A']>0) | (ok['B']>-1)])\n"
      ],
      "execution_count": 2,
      "outputs": [
        {
          "output_type": "stream",
          "name": "stdout",
          "text": [
            "                   A         B         C         D         E         F\n",
            "2021-09-30 -1.303714  0.281769 -1.935012  1.778365  1.091815  0.166640\n",
            "2021-10-01  0.042658 -1.652522  0.322628 -0.851450 -0.439694 -0.589452\n",
            "2021-10-02  0.973054 -0.620994  0.383322 -3.147544  0.375618  1.596682\n",
            "2021-10-03  0.183231 -0.586348  0.706871  1.498716  0.883798 -0.339930\n",
            "2021-10-04 -0.389152 -0.887279  1.327346 -0.907694  0.454913  1.354975\n",
            "2021-10-05 -0.490014  0.576166  0.281187  1.033577  0.394110  1.818287\n",
            "2021-10-06 -0.060602  1.941735  0.544458 -0.774755 -0.728169  0.224106\n",
            "2021-10-07  1.544224 -0.206957  0.540097 -0.629843 -0.476173 -0.103544\n",
            "\n",
            "Values of the column A is greater than 0:\n",
            "                    A         B         C         D         E         F\n",
            "2021-10-01  0.042658 -1.652522  0.322628 -0.851450 -0.439694 -0.589452\n",
            "2021-10-02  0.973054 -0.620994  0.383322 -3.147544  0.375618  1.596682\n",
            "2021-10-03  0.183231 -0.586348  0.706871  1.498716  0.883798 -0.339930\n",
            "2021-10-07  1.544224 -0.206957  0.540097 -0.629843 -0.476173 -0.103544\n",
            "\n",
            "Values of the columns A is greater than 0 and B greater than -1:\n",
            "                    A         B         C         D         E         F\n",
            "2021-10-02  0.973054 -0.620994  0.383322 -3.147544  0.375618  1.596682\n",
            "2021-10-03  0.183231 -0.586348  0.706871  1.498716  0.883798 -0.339930\n",
            "2021-10-07  1.544224 -0.206957  0.540097 -0.629843 -0.476173 -0.103544\n",
            "\n",
            "Values of the columns A is greater than 0 or B greater than -1:\n",
            "                    A         B         C         D         E         F\n",
            "2021-09-30 -1.303714  0.281769 -1.935012  1.778365  1.091815  0.166640\n",
            "2021-10-01  0.042658 -1.652522  0.322628 -0.851450 -0.439694 -0.589452\n",
            "2021-10-02  0.973054 -0.620994  0.383322 -3.147544  0.375618  1.596682\n",
            "2021-10-03  0.183231 -0.586348  0.706871  1.498716  0.883798 -0.339930\n",
            "2021-10-04 -0.389152 -0.887279  1.327346 -0.907694  0.454913  1.354975\n",
            "2021-10-05 -0.490014  0.576166  0.281187  1.033577  0.394110  1.818287\n",
            "2021-10-06 -0.060602  1.941735  0.544458 -0.774755 -0.728169  0.224106\n",
            "2021-10-07  1.544224 -0.206957  0.540097 -0.629843 -0.476173 -0.103544\n"
          ]
        }
      ]
    },
    {
      "cell_type": "markdown",
      "metadata": {
        "id": "1WAf9SbwLp6o"
      },
      "source": [
        "2. Create a DataFrame by passing a random numpy array,with a dateted index and labelled columns and check if ,\n",
        "  - the values of the table are greater the zero or not.\n",
        "  - the value at the postion (0,0) is equal to NaN or not."
      ]
    },
    {
      "cell_type": "code",
      "metadata": {
        "id": "rBrt8pMeM2Q5",
        "outputId": "15cfc725-31b9-4e5c-88bf-8895d81d0498",
        "colab": {
          "base_uri": "https://localhost:8080/"
        }
      },
      "source": [
        "#please type your code below this line.\n",
        "import numpy as np\n",
        "import pandas as pd\n",
        "datetie = pd.date_range('2021-09-30',periods=8)\n",
        "ok = pd.DataFrame(np.random.randn(8,6), index=datetie, columns=list('ABCDEF'))\n",
        "print(ok)\n",
        "print(\"\\nValues greater the zero or not:\\n\",ok>0)\n",
        "print(\"\\nValue at the postion (0,0) is equal to NaN or not:\\n\",ok.iloc[[0],[0]] == 'NaN')"
      ],
      "execution_count": 5,
      "outputs": [
        {
          "output_type": "stream",
          "name": "stdout",
          "text": [
            "                   A         B         C         D         E         F\n",
            "2021-09-30  1.704095 -1.294304 -0.136288  1.264454 -0.029783  0.216212\n",
            "2021-10-01 -0.629818  0.009080 -0.813249 -2.646219  1.779557  0.781965\n",
            "2021-10-02 -0.271053 -1.037856 -1.379394 -0.592488  1.029976  0.852038\n",
            "2021-10-03  1.090128  0.942934 -1.644497 -0.320688  0.117871  0.045601\n",
            "2021-10-04 -0.137622 -0.046684 -0.044743 -1.128593  0.771520 -0.842425\n",
            "2021-10-05  0.730186 -1.307517  1.226851 -1.239941 -0.355044 -1.857115\n",
            "2021-10-06 -1.977060 -0.533922 -0.569935  0.976644  1.762222  0.053271\n",
            "2021-10-07  2.711862  0.109070  1.100616 -0.780976 -0.357643  0.168918\n",
            "\n",
            "Values greater the zero or not:\n",
            "                 A      B      C      D      E      F\n",
            "2021-09-30   True  False  False   True  False   True\n",
            "2021-10-01  False   True  False  False   True   True\n",
            "2021-10-02  False  False  False  False   True   True\n",
            "2021-10-03   True   True  False  False   True   True\n",
            "2021-10-04  False  False  False  False   True  False\n",
            "2021-10-05   True  False   True  False  False  False\n",
            "2021-10-06  False  False  False   True   True   True\n",
            "2021-10-07   True   True   True  False  False   True\n",
            "\n",
            "Value at the postion (0,0) is equal to NaN or not:\n",
            "                 A\n",
            "2021-09-30  False\n"
          ]
        }
      ]
    },
    {
      "cell_type": "markdown",
      "metadata": {
        "id": "IfM9XYmiNaKB"
      },
      "source": [
        "3. Create a DataFrame by passing a random numpy array,with a dateted index and labelled columns and,\n",
        "  - reindex the index with even dates.\n",
        "  - create a column with values NaN.\n",
        "  - make the values of the first two index of the newly created column as 1"
      ]
    },
    {
      "cell_type": "code",
      "metadata": {
        "id": "F-w8kEfaORg3",
        "outputId": "ac4f6855-5849-4da1-bf9c-8e3b0d343b76",
        "colab": {
          "base_uri": "https://localhost:8080/"
        }
      },
      "source": [
        "#please type your answer below this line.\n",
        "import numpy as np\n",
        "import pandas as pd\n",
        "datetie = pd.date_range('2021-09-30',periods=8)\n",
        "hmm = pd.DataFrame(np.random.randn(8,6), index=datetie, columns=list('ABCDEF'))\n",
        "print(hmm)\n",
        "ok = hmm.reindex(hmm.index[0::2])\n",
        "print(\"\\nIndex with even dates:\\n\",ok)\n",
        "ok['G'] = 'NaN'\n",
        "print(\"\\nNew column with values NaN:\\n\",ok)\n",
        "ok.loc[ok.index[:2],'G'] = 1\n",
        "print(\"\\nFirst two index of the newly created column as 1:\\n\",ok)"
      ],
      "execution_count": 6,
      "outputs": [
        {
          "output_type": "stream",
          "name": "stdout",
          "text": [
            "                   A         B         C         D         E         F\n",
            "2021-09-30  0.704416  0.314807  0.195418  1.778597  0.223063  0.440188\n",
            "2021-10-01 -1.468362 -0.615995 -0.519359 -1.111560 -0.149323  1.190009\n",
            "2021-10-02  1.329337 -1.369959 -2.093431  0.510661  0.302786  1.355510\n",
            "2021-10-03 -0.211533  0.145763 -0.045954  1.285370  0.487320  0.712495\n",
            "2021-10-04  1.384619  0.105212 -0.584709 -0.856329 -3.111158  1.151690\n",
            "2021-10-05  1.776087  1.269349  0.624511 -2.155538 -0.131413 -1.977809\n",
            "2021-10-06 -1.235603 -1.351832 -0.129254  0.930168 -0.181952 -0.675345\n",
            "2021-10-07 -0.518121  0.246872 -1.654676  0.295199 -0.203039 -1.097483\n",
            "\n",
            "Index with even dates:\n",
            "                    A         B         C         D         E         F\n",
            "2021-09-30  0.704416  0.314807  0.195418  1.778597  0.223063  0.440188\n",
            "2021-10-02  1.329337 -1.369959 -2.093431  0.510661  0.302786  1.355510\n",
            "2021-10-04  1.384619  0.105212 -0.584709 -0.856329 -3.111158  1.151690\n",
            "2021-10-06 -1.235603 -1.351832 -0.129254  0.930168 -0.181952 -0.675345\n",
            "\n",
            "New column with values NaN:\n",
            "                    A         B         C         D         E         F    G\n",
            "2021-09-30  0.704416  0.314807  0.195418  1.778597  0.223063  0.440188  NaN\n",
            "2021-10-02  1.329337 -1.369959 -2.093431  0.510661  0.302786  1.355510  NaN\n",
            "2021-10-04  1.384619  0.105212 -0.584709 -0.856329 -3.111158  1.151690  NaN\n",
            "2021-10-06 -1.235603 -1.351832 -0.129254  0.930168 -0.181952 -0.675345  NaN\n",
            "\n",
            "First two index of the newly created column as 1:\n",
            "                    A         B         C         D         E         F    G\n",
            "2021-09-30  0.704416  0.314807  0.195418  1.778597  0.223063  0.440188    1\n",
            "2021-10-02  1.329337 -1.369959 -2.093431  0.510661  0.302786  1.355510    1\n",
            "2021-10-04  1.384619  0.105212 -0.584709 -0.856329 -3.111158  1.151690  NaN\n",
            "2021-10-06 -1.235603 -1.351832 -0.129254  0.930168 -0.181952 -0.675345  NaN\n"
          ]
        }
      ]
    }
  ]
}