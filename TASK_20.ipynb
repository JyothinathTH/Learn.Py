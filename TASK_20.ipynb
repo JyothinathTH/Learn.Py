{
  "nbformat": 4,
  "nbformat_minor": 0,
  "metadata": {
    "colab": {
      "name": "TASK 20.ipynb",
      "provenance": [],
      "include_colab_link": true
    },
    "kernelspec": {
      "name": "python3",
      "display_name": "Python 3"
    },
    "language_info": {
      "name": "python"
    }
  },
  "cells": [
    {
      "cell_type": "markdown",
      "metadata": {
        "id": "view-in-github",
        "colab_type": "text"
      },
      "source": [
        "<a href=\"https://colab.research.google.com/github/wed0rex/Learn.Py/blob/main/TASK_20.ipynb\" target=\"_parent\"><img src=\"https://colab.research.google.com/assets/colab-badge.svg\" alt=\"Open In Colab\"/></a>"
      ]
    },
    {
      "cell_type": "markdown",
      "metadata": {
        "id": "8LIfdcjDWmC3"
      },
      "source": [
        "1. In the data given below,\n",
        "  - find the boolean mask where value is nan\n",
        "  - remove the row with missing data.\n"
      ]
    },
    {
      "cell_type": "markdown",
      "metadata": {
        "id": "VPCGISRTbYPz"
      },
      "source": [
        ""
      ]
    },
    {
      "cell_type": "code",
      "metadata": {
        "colab": {
          "base_uri": "https://localhost:8080/"
        },
        "id": "VsZQYRqXXHpG",
        "outputId": "8863865f-f267-4b4b-a8e3-7f975da27fe4"
      },
      "source": [
        "import pandas as pd\n",
        "import numpy as np\n",
        "dates = pd.date_range('20210101',periods=6)\n",
        "df = pd.DataFrame(np.random.randn(6,4), index=dates,columns=list('ABCD'))\n",
        "s1 = pd.Series([1,2,3,4,5,6], index=pd.date_range('20130102', periods=6))\n",
        "df[\"F\"]=s1\n",
        "df1=df.reindex(index=dates[0:4], columns=list(df.columns) + ['E'])\n",
        "df1.loc[dates[0]:dates[1],'E'] = 1\n",
        "df1\n",
        "#please provide your answer below this line\n",
        "print(df1)\n",
        "print(\"\\nboolean mask where value is nan:\\n\",df1.isnull())\n",
        "print(\"\\nRemoving the row with missing data:\\n\",df1.dropna())\n"
      ],
      "execution_count": 2,
      "outputs": [
        {
          "output_type": "stream",
          "name": "stdout",
          "text": [
            "                   A         B         C         D   F    E\n",
            "2021-01-01  0.842331 -1.510987 -2.079453  0.897955 NaN  1.0\n",
            "2021-01-02  0.703128  0.176521  1.503493  1.267496 NaN  1.0\n",
            "2021-01-03  0.307037  0.119933  0.003517 -0.117543 NaN  NaN\n",
            "2021-01-04 -1.537807  0.209153 -0.487000  0.449701 NaN  NaN\n",
            "\n",
            "boolean mask where value is nan:\n",
            "                 A      B      C      D     F      E\n",
            "2021-01-01  False  False  False  False  True  False\n",
            "2021-01-02  False  False  False  False  True  False\n",
            "2021-01-03  False  False  False  False  True   True\n",
            "2021-01-04  False  False  False  False  True   True\n",
            "\n",
            "Removing the row with missing data:\n",
            " Empty DataFrame\n",
            "Columns: [A, B, C, D, F, E]\n",
            "Index: []\n"
          ]
        }
      ]
    },
    {
      "cell_type": "markdown",
      "metadata": {
        "id": "z1sv0aluZhcd"
      },
      "source": [
        "2. In the data given below,fill the missing data with 20."
      ]
    },
    {
      "cell_type": "code",
      "metadata": {
        "colab": {
          "base_uri": "https://localhost:8080/"
        },
        "id": "x3ZHFCeyZ0j2",
        "outputId": "e7b509fa-79b7-41ee-f0ea-1a7a9c0a58da"
      },
      "source": [
        "import pandas as pd\n",
        "import numpy as np\n",
        "dates = pd.date_range('20210101',periods=6)\n",
        "df = pd.DataFrame(np.random.randn(6,4), index=dates,columns=list('ABCD'))\n",
        "s1 = pd.Series([1,2,3,4,5,6], index=pd.date_range('20130102', periods=6))\n",
        "df[\"F\"]=s1\n",
        "df1=df.reindex(index=dates[0:4], columns=list(df.columns) + ['E'])\n",
        "df1.loc[dates[0]:dates[1],'E'] = 1\n",
        "df1\n",
        "#please provide your answer below this line\n",
        "print(df1)\n",
        "print(\"\\nFilling the missing data with 20:\\n\",df1.fillna(value = 20))"
      ],
      "execution_count": 3,
      "outputs": [
        {
          "output_type": "stream",
          "name": "stdout",
          "text": [
            "                   A         B         C         D   F    E\n",
            "2021-01-01  0.930163 -1.075342 -0.132741  0.434319 NaN  1.0\n",
            "2021-01-02 -0.697175 -2.781069  0.532844  0.027044 NaN  1.0\n",
            "2021-01-03  0.618649 -2.085076  0.612294  0.896120 NaN  NaN\n",
            "2021-01-04  1.110680 -1.966256  0.873944  1.604654 NaN  NaN\n",
            "\n",
            "Filling the missing data with 20:\n",
            "                    A         B         C         D     F     E\n",
            "2021-01-01  0.930163 -1.075342 -0.132741  0.434319  20.0   1.0\n",
            "2021-01-02 -0.697175 -2.781069  0.532844  0.027044  20.0   1.0\n",
            "2021-01-03  0.618649 -2.085076  0.612294  0.896120  20.0  20.0\n",
            "2021-01-04  1.110680 -1.966256  0.873944  1.604654  20.0  20.0\n"
          ]
        }
      ]
    },
    {
      "cell_type": "markdown",
      "metadata": {
        "id": "vMzwvpxcZ3G8"
      },
      "source": [
        "3. From the data given below,\n",
        "  - break the data in to pieces from 0 t0 2 ,3 t0 7\n",
        "  - concatenate the pieces.\n",
        "  - concatenate the pieces along axis 1\n",
        "  - label each as 'a' and 'b' respectively and perform concatenation."
      ]
    },
    {
      "cell_type": "code",
      "metadata": {
        "colab": {
          "base_uri": "https://localhost:8080/"
        },
        "id": "LxGwKPTVbbXV",
        "outputId": "b70daf56-4e5a-4e65-a16b-ec42a05a7b09"
      },
      "source": [
        "import pandas as pd\n",
        "import numpy as np\n",
        "df = pd.DataFrame(np.random.randn(10, 4))\n",
        "df\n",
        "#please provide your answer below this line\n",
        "print(df)\n",
        "pieces = [df[:3],df[3:8]]\n",
        "print(\"\\nPieces of data from 0 to 2 ,3 to 7:\\n\",pieces[0],\"\\n\",pieces[1])\n",
        "print(\"\\nConcatenated pieces:\\n\",pd.concat(pieces))\n",
        "print(\"\\nconcatenate the pieces along axis 1:\\n\",pd.concat(pieces, axis = 1))\n",
        "a = pieces[0]\n",
        "b = pieces[1]\n",
        "print(\"\\nConcatination of a and b:\\n\",pd.concat([a,b]))"
      ],
      "execution_count": 4,
      "outputs": [
        {
          "output_type": "stream",
          "name": "stdout",
          "text": [
            "          0         1         2         3\n",
            "0 -0.447737  0.921075 -1.582124 -0.387032\n",
            "1  0.664787  0.831578  0.704488  0.990189\n",
            "2  2.060125 -1.384360  0.731377 -0.723388\n",
            "3 -1.770092  0.967463 -1.681757 -1.422364\n",
            "4  0.718231  1.566334  0.523819  1.015341\n",
            "5  0.071373 -0.521403 -0.314387 -0.127148\n",
            "6  0.874322 -0.056599  0.407097  0.456451\n",
            "7 -0.546561 -0.028238 -1.403669  1.829995\n",
            "8  0.215596 -0.015726 -1.342276  1.384266\n",
            "9  0.479179 -0.566264 -0.963254  0.145454\n",
            "\n",
            "Pieces of data from 0 to 2 ,3 to 7:\n",
            "           0         1         2         3\n",
            "0 -0.447737  0.921075 -1.582124 -0.387032\n",
            "1  0.664787  0.831578  0.704488  0.990189\n",
            "2  2.060125 -1.384360  0.731377 -0.723388 \n",
            "           0         1         2         3\n",
            "3 -1.770092  0.967463 -1.681757 -1.422364\n",
            "4  0.718231  1.566334  0.523819  1.015341\n",
            "5  0.071373 -0.521403 -0.314387 -0.127148\n",
            "6  0.874322 -0.056599  0.407097  0.456451\n",
            "7 -0.546561 -0.028238 -1.403669  1.829995\n",
            "\n",
            "Concatenated pieces:\n",
            "           0         1         2         3\n",
            "0 -0.447737  0.921075 -1.582124 -0.387032\n",
            "1  0.664787  0.831578  0.704488  0.990189\n",
            "2  2.060125 -1.384360  0.731377 -0.723388\n",
            "3 -1.770092  0.967463 -1.681757 -1.422364\n",
            "4  0.718231  1.566334  0.523819  1.015341\n",
            "5  0.071373 -0.521403 -0.314387 -0.127148\n",
            "6  0.874322 -0.056599  0.407097  0.456451\n",
            "7 -0.546561 -0.028238 -1.403669  1.829995\n",
            "\n",
            "concatenate the pieces along axis 1:\n",
            "           0         1         2  ...         1         2         3\n",
            "0 -0.447737  0.921075 -1.582124  ...       NaN       NaN       NaN\n",
            "1  0.664787  0.831578  0.704488  ...       NaN       NaN       NaN\n",
            "2  2.060125 -1.384360  0.731377  ...       NaN       NaN       NaN\n",
            "3       NaN       NaN       NaN  ...  0.967463 -1.681757 -1.422364\n",
            "4       NaN       NaN       NaN  ...  1.566334  0.523819  1.015341\n",
            "5       NaN       NaN       NaN  ... -0.521403 -0.314387 -0.127148\n",
            "6       NaN       NaN       NaN  ... -0.056599  0.407097  0.456451\n",
            "7       NaN       NaN       NaN  ... -0.028238 -1.403669  1.829995\n",
            "\n",
            "[8 rows x 8 columns]\n",
            "\n",
            "Concatination of a and b:\n",
            "           0         1         2         3\n",
            "0 -0.447737  0.921075 -1.582124 -0.387032\n",
            "1  0.664787  0.831578  0.704488  0.990189\n",
            "2  2.060125 -1.384360  0.731377 -0.723388\n",
            "3 -1.770092  0.967463 -1.681757 -1.422364\n",
            "4  0.718231  1.566334  0.523819  1.015341\n",
            "5  0.071373 -0.521403 -0.314387 -0.127148\n",
            "6  0.874322 -0.056599  0.407097  0.456451\n",
            "7 -0.546561 -0.028238 -1.403669  1.829995\n"
          ]
        }
      ]
    },
    {
      "cell_type": "code",
      "metadata": {
        "id": "h290MAgudPQI"
      },
      "source": [
        ""
      ],
      "execution_count": null,
      "outputs": []
    }
  ]
}