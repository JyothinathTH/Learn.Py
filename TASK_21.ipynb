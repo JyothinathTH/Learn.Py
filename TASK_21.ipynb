{
  "nbformat": 4,
  "nbformat_minor": 0,
  "metadata": {
    "colab": {
      "name": "TASK 21.ipynb",
      "provenance": [],
      "include_colab_link": true
    },
    "kernelspec": {
      "name": "python3",
      "display_name": "Python 3"
    },
    "language_info": {
      "name": "python"
    }
  },
  "cells": [
    {
      "cell_type": "markdown",
      "metadata": {
        "id": "view-in-github",
        "colab_type": "text"
      },
      "source": [
        "<a href=\"https://colab.research.google.com/github/wed0rex/Learn.Py/blob/main/TASK_21.ipynb\" target=\"_parent\"><img src=\"https://colab.research.google.com/assets/colab-badge.svg\" alt=\"Open In Colab\"/></a>"
      ]
    },
    {
      "cell_type": "markdown",
      "metadata": {
        "id": "wK9sv7fHTnyo"
      },
      "source": [
        "1.  Using the dataset given below,\n",
        "  - Group the given dataset by A and find the sum of the groups.\n",
        "  - Find the 3 least elements from the column D\n",
        "  - Find the 3 largest elements from the Column D which belongs to the group\n",
        "  'bar'."
      ]
    },
    {
      "cell_type": "code",
      "metadata": {
        "id": "C_Kq4i_rVNyB",
        "outputId": "a6df39ea-57dc-43a9-c3e0-1bbd81160952",
        "colab": {
          "base_uri": "https://localhost:8080/"
        }
      },
      "source": [
        "import pandas as pd\n",
        "import numpy as np\n",
        "df = pd.DataFrame({'A' : ['foo', 'bar', 'foo', 'bar',\n",
        "                          'foo', 'bar', 'foo', 'foo'],\n",
        "                   'B' : ['one', 'one', 'two', 'three',\n",
        "                          'two', 'two', 'one', 'three'],\n",
        "                   'C' : np.random.randn(8),\n",
        "                   'D' : np.random.randn(8)})\n",
        "df\n",
        "#please type your code below this line.\n",
        "group = df.groupby('A')\n",
        "print(\"sum of the groups:\\n\",group.sum())\n",
        "print(\"3 least elements from the column D:\\n\",df['D'].nsmallest(3))\n",
        "print(\"3 largest elements from the Column D which belongs to the group 'bar':\\n\",group['D'].get_group('bar').nlargest(3))"
      ],
      "execution_count": 1,
      "outputs": [
        {
          "output_type": "stream",
          "name": "stdout",
          "text": [
            "sum of the groups:\n",
            "             C         D\n",
            "A                      \n",
            "bar -0.324569 -0.800165\n",
            "foo -2.086976 -2.981724\n",
            "3 least elements from the column D:\n",
            " 7   -2.031892\n",
            "5   -0.646885\n",
            "4   -0.590970\n",
            "Name: D, dtype: float64\n",
            "3 largest elements from the Column D which belongs to the group 'bar':\n",
            " 3    0.433976\n",
            "1   -0.587256\n",
            "5   -0.646885\n",
            "Name: D, dtype: float64\n"
          ]
        }
      ]
    },
    {
      "cell_type": "markdown",
      "metadata": {
        "id": "68XLHGsrdHXb"
      },
      "source": [
        "2. Using the dataset given below,\n",
        "  - convert the dataset into a csv file.\n",
        "  - read the csv file just saved\n",
        "  - covert the dataset into a excel file.\n",
        "  - read the excel file just saved."
      ]
    },
    {
      "cell_type": "code",
      "metadata": {
        "id": "J4BOx3UZdVLV",
        "outputId": "178f4b7b-934f-49bf-9acd-c873b9470cc3",
        "colab": {
          "base_uri": "https://localhost:8080/"
        }
      },
      "source": [
        "import pandas as pd\n",
        "import numpy as np\n",
        "df = pd.DataFrame({'A' : ['foo', 'bar', 'foo', 'bar',\n",
        "                          'foo', 'bar', 'foo', 'foo'],\n",
        "                   'B' : ['one', 'one', 'two', 'three',\n",
        "                          'two', 'two', 'one', 'three'],\n",
        "                   'C' : np.random.randn(8),\n",
        "                   'D' : np.random.randn(8)})\n",
        "#please type your code below this line.\n",
        "print(df)\n",
        "df.to_csv('csvFile.csv')\n",
        "print(\"CSS FILE:\\n\", pd.read_csv('csvFile.csv'))\n",
        "df.to_excel('excelFile.xlsx')\n",
        "print(\"EXCEL FILE:\\n\",pd.read_excel('excelFile.xlsx'))"
      ],
      "execution_count": 2,
      "outputs": [
        {
          "output_type": "stream",
          "name": "stdout",
          "text": [
            "     A      B         C         D\n",
            "0  foo    one -1.651153 -0.550389\n",
            "1  bar    one -1.041557 -1.179551\n",
            "2  foo    two  0.225983 -0.962624\n",
            "3  bar  three -1.925703  1.653393\n",
            "4  foo    two -2.193931  2.319993\n",
            "5  bar    two -0.487016 -0.921649\n",
            "6  foo    one -0.604057  0.523754\n",
            "7  foo  three -1.434396  0.115441\n",
            "CSS FILE:\n",
            "    Unnamed: 0    A      B         C         D\n",
            "0           0  foo    one -1.651153 -0.550389\n",
            "1           1  bar    one -1.041557 -1.179551\n",
            "2           2  foo    two  0.225983 -0.962624\n",
            "3           3  bar  three -1.925703  1.653393\n",
            "4           4  foo    two -2.193931  2.319993\n",
            "5           5  bar    two -0.487016 -0.921649\n",
            "6           6  foo    one -0.604057  0.523754\n",
            "7           7  foo  three -1.434396  0.115441\n",
            "EXCEL FILE:\n",
            "    Unnamed: 0    A      B         C         D\n",
            "0           0  foo    one -1.651153 -0.550389\n",
            "1           1  bar    one -1.041557 -1.179551\n",
            "2           2  foo    two  0.225983 -0.962624\n",
            "3           3  bar  three -1.925703  1.653393\n",
            "4           4  foo    two -2.193931  2.319993\n",
            "5           5  bar    two -0.487016 -0.921649\n",
            "6           6  foo    one -0.604057  0.523754\n",
            "7           7  foo  three -1.434396  0.115441\n"
          ]
        }
      ]
    }
  ]
}