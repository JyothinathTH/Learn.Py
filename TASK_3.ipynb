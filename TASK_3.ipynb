{
  "nbformat": 4,
  "nbformat_minor": 0,
  "metadata": {
    "colab": {
      "name": "TASK 3.ipynb",
      "provenance": [],
      "include_colab_link": true
    },
    "kernelspec": {
      "name": "python3",
      "display_name": "Python 3"
    },
    "language_info": {
      "name": "python"
    }
  },
  "cells": [
    {
      "cell_type": "markdown",
      "metadata": {
        "id": "view-in-github",
        "colab_type": "text"
      },
      "source": [
        "<a href=\"https://colab.research.google.com/github/wed0rex/Learn.Py/blob/main/TASK_3.ipynb\" target=\"_parent\"><img src=\"https://colab.research.google.com/assets/colab-badge.svg\" alt=\"Open In Colab\"/></a>"
      ]
    },
    {
      "cell_type": "markdown",
      "metadata": {
        "id": "z20IIB0eUQMN"
      },
      "source": [
        "1 - Write a program which takes a number as input from the user and check whether the number is odd or even.If odd print the number is odd if not print it is even."
      ]
    },
    {
      "cell_type": "code",
      "metadata": {
        "id": "dVgGJ-wTVRit",
        "colab": {
          "base_uri": "https://localhost:8080/"
        },
        "outputId": "db7156b9-3497-4dad-c458-de5d8df56b5d"
      },
      "source": [
        "#please enter your answer below this line\n",
        "n=int(input(\"Enter a number:\"))\n",
        "if (n%2==0):\n",
        "  print(\"Even\")\n",
        "else: \n",
        "  print(\"odd\")"
      ],
      "execution_count": null,
      "outputs": [
        {
          "output_type": "stream",
          "text": [
            "Enter a number:5\n",
            "odd\n"
          ],
          "name": "stdout"
        }
      ]
    },
    {
      "cell_type": "markdown",
      "metadata": {
        "id": "7778XD8PVblj"
      },
      "source": [
        "2 -Write a program to find the largest among three numbers and print the largest number."
      ]
    },
    {
      "cell_type": "code",
      "metadata": {
        "id": "m0tUOkOFWR-d",
        "colab": {
          "base_uri": "https://localhost:8080/"
        },
        "outputId": "d81ae4c1-555c-4c6f-d65e-a2f2f79e230a"
      },
      "source": [
        "#please enter your answer below this line\n",
        "a=int(input(\"Enter 1st Number:\"))\n",
        "b=int(input(\"Enter 2nd Number:\"))\n",
        "c=int(input(\"Enter 3rd Number:\"))\n",
        "if (a<b<c):\n",
        "  print(c, \"is the largest number\")\n",
        "if (a<c<b):\n",
        "    print(b, \"is the largest number\")\n",
        "if (c<b<a):\n",
        "      print(a, \"is the largest number\")\n",
        "if (b<c<a):\n",
        "  print(a, \"is the largest number\")\n",
        "if (b<a<c):\n",
        "  print(c, \"is the largest number\")\n",
        "if (c<a<b):\n",
        "  print(b, \"is the largest number\")"
      ],
      "execution_count": null,
      "outputs": [
        {
          "output_type": "stream",
          "text": [
            "Enter 1st Number:2\n",
            "Enter 2nd Number:3\n",
            "Enter 3rd Number:1\n",
            "3 is the largest number\n"
          ],
          "name": "stdout"
        }
      ]
    },
    {
      "cell_type": "markdown",
      "metadata": {
        "id": "PjFSLtPDRLkj"
      },
      "source": [
        ""
      ]
    },
    {
      "cell_type": "markdown",
      "metadata": {
        "id": "Jg2Ns4OQWaJy"
      },
      "source": [
        "3 -Write a function to prompt for a score between 0.0 and 1.0.\n",
        "\n",
        "    If the score is out of range, print an error.\n",
        "    If the score is between 0.0 and 1.0, print a grade using the following table:\n",
        "    Score Grade\n",
        "             Score\tGrade\n",
        "            >= 0.9\tA\n",
        "            >= 0.8\tB\n",
        "            >= 0.7\tC\n",
        "            >= 0.6\tD\n",
        "             < 0.6\tF\n",
        "If the user enters a value out of range, print a suitable error message and exit. For the test, enter a score of 0.85."
      ]
    },
    {
      "cell_type": "code",
      "metadata": {
        "id": "6DLbGe6XXZPx",
        "colab": {
          "base_uri": "https://localhost:8080/"
        },
        "outputId": "bb6a768a-1d94-4368-85c3-682791fb5bdd"
      },
      "source": [
        "#please enter your answer below this line\n",
        "y= float(input(\"Please input your Score:\"))\n",
        "\n",
        "if (0<y>1\n",
        "    ):\n",
        "    print(\"Enter the Correct Value.\")\n",
        "    \n",
        "if (1>y>= 0.9):\n",
        "     print(\"Your have Got A Grade. Congrats.\")\n",
        "if (0.9>y>= 0.8):\n",
        "      print(\"Your have Got B Grade. Congrats.\")\n",
        "if (0.8>y>= 0.7):\n",
        "      print(\"Your have Got C Grade. Need More Hardwork.\")\n",
        "if (0.7>y>= 0.6):\n",
        "    print(\"Your have Got D Grade. Try Harder.\")\n",
        "if (y<0.6):\n",
        "    print(\"You have Got F grade. Need More Hardwork. Study, You can be better\")\n",
        "\n"
      ],
      "execution_count": 1,
      "outputs": [
        {
          "output_type": "stream",
          "text": [
            "Please input your Score:0.85\n",
            "Your have Got B Grade. Congrats.\n"
          ],
          "name": "stdout"
        }
      ]
    },
    {
      "cell_type": "markdown",
      "metadata": {
        "id": "-o0scDq7WkVT"
      },
      "source": [
        ""
      ]
    }
  ]
}