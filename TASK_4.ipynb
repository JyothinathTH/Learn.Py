{
  "nbformat": 4,
  "nbformat_minor": 0,
  "metadata": {
    "colab": {
      "name": "TASK 4",
      "provenance": [],
      "include_colab_link": true
    },
    "kernelspec": {
      "name": "python3",
      "display_name": "Python 3"
    },
    "language_info": {
      "name": "python"
    }
  },
  "cells": [
    {
      "cell_type": "markdown",
      "metadata": {
        "id": "view-in-github",
        "colab_type": "text"
      },
      "source": [
        "<a href=\"https://colab.research.google.com/github/wed0rex/Learn.Py/blob/main/TASK_4.ipynb\" target=\"_parent\"><img src=\"https://colab.research.google.com/assets/colab-badge.svg\" alt=\"Open In Colab\"/></a>"
      ]
    },
    {
      "cell_type": "markdown",
      "metadata": {
        "id": "jhLooYoXnjso"
      },
      "source": [
        "1. Create a dictionary that contains \n",
        "            name = Alex Ryder\n",
        "            age  = 28\n",
        "Update the age to 32 and another element to the dictionary\n",
        "            age = 32\n",
        "            town = calicut\n",
        "Expected output\n",
        "            {'name': 'Alex Ryder', 'age': 32, 'town': 'calicut'}"
      ]
    },
    {
      "cell_type": "code",
      "metadata": {
        "id": "EE8jp4PMpp4Q",
        "outputId": "c92ef393-51e5-4b98-d640-6eea14786858",
        "colab": {
          "base_uri": "https://localhost:8080/"
        }
      },
      "source": [
        "#please enter your answer below this line\n",
        "d = {'name':'Alex Ryder','age':'28' }\n",
        "d['age'] = '32'\n",
        "d.update({'town':'calicut'})\n",
        "print(d)"
      ],
      "execution_count": 3,
      "outputs": [
        {
          "output_type": "stream",
          "text": [
            "{'name': 'Alex Ryder', 'age': '32', 'town': 'calicut'}\n"
          ],
          "name": "stdout"
        }
      ]
    },
    {
      "cell_type": "markdown",
      "metadata": {
        "id": "nM1kmYmKqFwT"
      },
      "source": [
        "2. Create a dictionary containing the squares of numbers from 1 to 5.\n",
        "Expected output\n",
        "            {1: 1, 2: 4, 3: 9, 4: 16, 5: 15}\n",
        "\n",
        "From this dictionary remove the item 3 and its square.\n",
        "\n",
        "Expected output\n",
        "                    \n",
        "                {1: 1, 2: 4, 4: 16, 5: 15}\n",
        "\n",
        "Now remove all items from the dictionary.\n",
        "\n",
        "Expected output\n",
        "\n",
        "      {}\n",
        "\n",
        "Now delete the dictionary itself.\n",
        "\n",
        "          "
      ]
    },
    {
      "cell_type": "code",
      "metadata": {
        "id": "VL312SCHygzS",
        "outputId": "f5b577bf-9ea5-4a3c-e055-b984dff0da19",
        "colab": {
          "base_uri": "https://localhost:8080/"
        }
      },
      "source": [
        "#please enter your answer below this line\n",
        "d=dict()\n",
        "for x in range(1,6):\n",
        " d[x]=x**2\n",
        "del d[3]\n",
        "print(d)\n",
        "\n",
        "d='{}'\n",
        "print(d)"
      ],
      "execution_count": 8,
      "outputs": [
        {
          "output_type": "stream",
          "text": [
            "{1: 1, 2: 4, 4: 16, 5: 25}\n",
            "{}\n"
          ],
          "name": "stdout"
        }
      ]
    },
    {
      "cell_type": "markdown",
      "metadata": {
        "id": "GaJF8GEPzDQN"
      },
      "source": [
        "3. Make a set containing the elements 1, hello, (0,1,2).\n",
        "\n",
        "Expected output\n",
        "            \n",
        "            {'hello', 1, (0, 1, 2)}\n",
        "\n",
        "Now add the value 6 to the set.\n",
        "\n",
        "Expected output\n",
        "\n",
        "        {'hello', 1, (0, 1, 2), 6}\n",
        "\n",
        "\n",
        "\n"
      ]
    },
    {
      "cell_type": "code",
      "metadata": {
        "id": "RlKGp2E31rZB",
        "outputId": "de7a528e-b605-4570-d878-8f45b8451f9b",
        "colab": {
          "base_uri": "https://localhost:8080/"
        }
      },
      "source": [
        "#please enter your answer below the line\n",
        "x = {1,'hello',(0,1,2)}\n",
        "print(x)\n",
        "x.add(6)\n",
        "print(x)"
      ],
      "execution_count": 6,
      "outputs": [
        {
          "output_type": "stream",
          "text": [
            "{'hello', 1, (0, 1, 2)}\n",
            "{'hello', 1, (0, 1, 2), 6}\n"
          ],
          "name": "stdout"
        }
      ]
    }
  ]
}